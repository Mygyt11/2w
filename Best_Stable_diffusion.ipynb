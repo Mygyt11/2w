{
  "nbformat": 4,
  "nbformat_minor": 0,
  "metadata": {
    "colab": {
      "provenance": [],
      "gpuType": "T4",
      "authorship_tag": "ABX9TyPXJPajFuHjw3+hyYpPyn0V",
      "include_colab_link": true
    },
    "kernelspec": {
      "name": "python3",
      "display_name": "Python 3"
    },
    "language_info": {
      "name": "python"
    },
    "accelerator": "GPU"
  },
  "cells": [
    {
      "cell_type": "markdown",
      "metadata": {
        "id": "view-in-github",
        "colab_type": "text"
      },
      "source": [
        "<a href=\"https://colab.research.google.com/github/Mygyt11/2w/blob/main/Best_Stable_diffusion.ipynb\" target=\"_parent\"><img src=\"https://colab.research.google.com/assets/colab-badge.svg\" alt=\"Open In Colab\"/></a>"
      ]
    },
    {
      "cell_type": "code",
      "execution_count": 2,
      "metadata": {
        "cellView": "form",
        "id": "GsxYIgsbsFFy"
      },
      "outputs": [],
      "source": [
        "# @title  ↓ Load Important Packages Run this ( THIS IS THE FIRST STEP FOR YOUR TEXT TO IMAGE GENERATION AI) {IT LOADS THE IMPORTANT PACKAGES } TAKES 2 TO 3 MINUTES\n",
        "%%capture\n",
        "!pip install invisible_watermark transformers accelerate safetensors\n",
        "!pip install diffusers --upgrade\n",
        "!pip install gradio\n",
        "from diffusers import DiffusionPipeline\n",
        "import torch\n",
        "pipe = DiffusionPipeline.from_pretrained(\"stabilityai/stable-diffusion-xl-base-1.0\", torch_dtype=torch.float16, use_safetensors=True, variant=\"fp16\")\n",
        "pipe.to(\"cuda:0\")"
      ]
    },
    {
      "cell_type": "code",
      "source": [
        "# @title  ↓ Start Using Text To Image Generator AI {Run This to open your image generator AI}\n",
        "\n",
        "import gradio as gr\n",
        "def gi(prompt):\n",
        "  image = pipe(prompt+\" hyper real image ,ultra – detailed ,hyper – realistic,8K,photo - hyper realistic, hyper detail – Image\",negative_prompt=\"mutated Image,bad anatomy,deformed Image,extra finger,mutated face,deformed pupils, deformed iris,mutated hands and fingers,deformed hand and fingers ,deformed eye,extra fingers ,less fingers,unrealistic Image,Low Quality,Bad Quality,deformed objects,unrealistic objects,blurry,mutated body,deformed body,deformed leg,mutated leg,deformed foot,mutated foot,deformed shoes,deformed buildings,deformed enviroment,deformed things,bad look,deformed chicks,deformed animals,bad quality,deformed dress\").images[0]\n",
        "  return image\n",
        "input_box = gr.components.Textbox(placeholder=\"Enter your text and generate Image in less than a minute!!...\")\n",
        "iface = gr.Interface(fn=gi,inputs=input_box,outputs=\"image\",title=\"Stable Diffusion AI Image Generator\")\n",
        "gradio_url = iface.launch(share=True)"
      ],
      "metadata": {
        "colab": {
          "base_uri": "https://localhost:8080/",
          "height": 611
        },
        "cellView": "form",
        "id": "S9b48sOKsKdC",
        "outputId": "9881da4c-016b-4149-8b8b-9712da945c5f"
      },
      "execution_count": 3,
      "outputs": [
        {
          "output_type": "stream",
          "name": "stdout",
          "text": [
            "Colab notebook detected. To show errors in colab notebook, set debug=True in launch()\n",
            "Running on public URL: https://6d550b3bad15f32091.gradio.live\n",
            "\n",
            "This share link expires in 72 hours. For free permanent hosting and GPU upgrades, run `gradio deploy` from Terminal to deploy to Spaces (https://huggingface.co/spaces)\n"
          ]
        },
        {
          "output_type": "display_data",
          "data": {
            "text/plain": [
              "<IPython.core.display.HTML object>"
            ],
            "text/html": [
              "<div><iframe src=\"https://6d550b3bad15f32091.gradio.live\" width=\"100%\" height=\"500\" allow=\"autoplay; camera; microphone; clipboard-read; clipboard-write;\" frameborder=\"0\" allowfullscreen></iframe></div>"
            ]
          },
          "metadata": {}
        }
      ]
    }
  ]
}