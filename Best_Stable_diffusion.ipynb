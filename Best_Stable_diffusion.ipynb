{
  "nbformat": 4,
  "nbformat_minor": 0,
  "metadata": {
    "colab": {
      "provenance": [],
      "gpuType": "T4",
      "authorship_tag": "ABX9TyOmjZ/RewhCl4e0dzumX3fa",
      "include_colab_link": true
    },
    "kernelspec": {
      "name": "python3",
      "display_name": "Python 3"
    },
    "language_info": {
      "name": "python"
    },
    "accelerator": "GPU"
  },
  "cells": [
    {
      "cell_type": "markdown",
      "metadata": {
        "id": "view-in-github",
        "colab_type": "text"
      },
      "source": [
        "<a href=\"https://colab.research.google.com/github/Mygyt11/2w/blob/main/Best_Stable_diffusion.ipynb\" target=\"_parent\"><img src=\"https://colab.research.google.com/assets/colab-badge.svg\" alt=\"Open In Colab\"/></a>"
      ]
    },
    {
      "cell_type": "code",
      "execution_count": 1,
      "metadata": {
        "cellView": "form",
        "id": "elKBR-oAHdLa"
      },
      "outputs": [],
      "source": [
        "# @title  ↓ Load Important Packages Run this ( THIS IS THE FIRST STEP FOR YOUR TEXT TO IMAGE GENERATION AI) {IT LOADS THE IMPORTANT PACKAGES } TAKES 2 TO 3 MINUTES depends upon your internet speed\n",
        "%%capture\n",
        "!pip install invisible_watermark transformers accelerate safetensors\n",
        "!pip install diffusers --upgrade\n",
        "!pip install gradio\n",
        "from diffusers import DiffusionPipeline\n",
        "import torch\n",
        "pipe = DiffusionPipeline.from_pretrained(\"stabilityai/stable-diffusion-xl-base-1.0\", torch_dtype=torch.float16, use_safetensors=True, variant=\"fp16\")\n",
        "pipe.to(\"cuda:0\")"
      ]
    },
    {
      "cell_type": "code",
      "source": [
        "# @title  ↓ Start Using Text To Image Generator AI {Run This to open your image generator AI}\n",
        "\n",
        "import gradio as gr\n",
        "def gi(prompt):\n",
        "  image = pipe(prompt+\" hyper real image ,ultra – detailed ,hyper – realistic,8K,photo - hyper realistic, hyper detail – Image\",negative_prompt=\"mutated Image,bad anatomy,deformed Image,extra finger,mutated face,deformed pupils, deformed iris,mutated hands and fingers,deformed hand and fingers ,deformed eye,extra fingers ,less fingers,unrealistic Image,Low Quality,Bad Quality,deformed objects,unrealistic objects,blurry,mutated body,deformed body,deformed leg,mutated leg,deformed foot,mutated foot,deformed shoes,deformed buildings,deformed enviroment,deformed things,bad look,deformed chicks,deformed animals,bad quality,deformed dress\").images[0]\n",
        "  return image\n",
        "input_box = gr.components.Textbox(placeholder=\"Enter your text and generate Image in less than a minute!!...\")\n",
        "iface = gr.Interface(fn=gi,inputs=input_box,outputs=\"image\",title=\"Stable Diffusion AI Image Generator\")\n",
        "gradio_url = iface.launch(share=True)"
      ],
      "metadata": {
        "cellView": "form",
        "id": "GsN64FKJIZLH"
      },
      "execution_count": null,
      "outputs": []
    }
  ]
}