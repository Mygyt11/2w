{
  "nbformat": 4,
  "nbformat_minor": 0,
  "metadata": {
    "colab": {
      "provenance": [],
      "gpuType": "T4",
      "authorship_tag": "ABX9TyO+7JA3v5S0Fad478RJIiqS",
      "include_colab_link": true
    },
    "kernelspec": {
      "name": "python3",
      "display_name": "Python 3"
    },
    "language_info": {
      "name": "python"
    },
    "accelerator": "GPU"
  },
  "cells": [
    {
      "cell_type": "markdown",
      "metadata": {
        "id": "view-in-github",
        "colab_type": "text"
      },
      "source": [
        "<a href=\"https://colab.research.google.com/github/Mygyt11/2w/blob/main/Best_Stable_diffusion_Image_Generator.ipynb\" target=\"_parent\"><img src=\"https://colab.research.google.com/assets/colab-badge.svg\" alt=\"Open In Colab\"/></a>"
      ]
    },
    {
      "cell_type": "code",
      "execution_count": 1,
      "metadata": {
        "cellView": "form",
        "id": "Yw5YaKXGr4NL"
      },
      "outputs": [],
      "source": [
        "# @title  ↓Load Important Packages Run this\n",
        "%%capture\n",
        "!pip install invisible_watermark transformers accelerate safetensors\n",
        "!pip install diffusers --upgrade\n",
        "!pip install gradio\n",
        "from diffusers import DiffusionPipeline\n",
        "import torch\n",
        "pipe = DiffusionPipeline.from_pretrained(\"stabilityai/stable-diffusion-xl-base-1.0\", torch_dtype=torch.float16, use_safetensors=True, variant=\"fp16\")\n",
        "pipe.to(\"cuda\")"
      ]
    },
    {
      "cell_type": "code",
      "source": [
        "# @title  ↓Start Using Text To Image Generator AI {Run This cell Also}\n",
        "import gradio as gr\n",
        "def gi(prompt):\n",
        "  image = pipe(prompt+\" Highly Detailed,Ultra Realistic 8K Ultra HD Image\",negative_prompt=\"mutated Image , deformed Image,extra finger,mutated face,deformed pupils, deformed iris,mutated hands and fingers,deformed hand and fingers ,deformed eye,extra fingers ,less fingers,unrealistic Image,Low Quality,Bad Quality,deformed objects,unrealistic objects,blurry,mutated body,deformed body,deformed leg,mutated leg,deformed foot,mutated foot,deformed shoes,deformed buildings,deformed enviroment,deformed things,bad look\").images[0]\n",
        "  return image\n",
        "iface = gr.Interface(fn=gi,inputs=\"text\",outputs=\"image\")\n",
        "iface.launch(share=True,debug=True)"
      ],
      "metadata": {
        "cellView": "form",
        "id": "QsdlQGfMsCJC"
      },
      "execution_count": null,
      "outputs": []
    }
  ]
}