{
  "nbformat": 4,
  "nbformat_minor": 0,
  "metadata": {
    "colab": {
      "provenance": [],
      "gpuType": "T4",
      "authorship_tag": "ABX9TyNBtjfPYUUzakrQ1E7XmedW",
      "include_colab_link": true
    },
    "kernelspec": {
      "name": "python3",
      "display_name": "Python 3"
    },
    "language_info": {
      "name": "python"
    },
    "accelerator": "GPU"
  },
  "cells": [
    {
      "cell_type": "markdown",
      "metadata": {
        "id": "view-in-github",
        "colab_type": "text"
      },
      "source": [
        "<a href=\"https://colab.research.google.com/github/Mygyt11/2w/blob/main/Best_Stable_diffusion_XL_BestModel.ipynb\" target=\"_parent\"><img src=\"https://colab.research.google.com/assets/colab-badge.svg\" alt=\"Open In Colab\"/></a>"
      ]
    },
    {
      "cell_type": "code",
      "execution_count": null,
      "metadata": {
        "cellView": "form",
        "id": "BoNw3FXSqE4H"
      },
      "outputs": [],
      "source": [
        "# @title ↓ Run This Shell by clicking on the run(play) button it will take 2 to 3 minutes after it your all packages and dpendencies for stable diffusion will be loaded\n",
        "%%capture\n",
        "!pip install invisible_watermark transformers accelerate safetensors\n",
        "!pip install diffusers --upgrade\n",
        "!pip install gradio\n",
        "from diffusers import DiffusionPipeline\n",
        "import torch\n",
        "pipe = DiffusionPipeline.from_pretrained(\"stabilityai/stable-diffusion-xl-base-1.0\", torch_dtype=torch.float16, use_safetensors=True, variant=\"fp16\")\n",
        "pipe.to(\"cuda\")\n",
        "pipe.unet = torch.compile(pipe.unet, mode=\"reduce-overhead\", fullgraph=True)\n"
      ]
    },
    {
      "cell_type": "code",
      "source": [
        "# @title ↓ After Running this your stabel diffusion image generation server will be loaded and you can generate images here and by clicking on the generated link also\n",
        "import gradio as gr\n",
        "def gi(prompt):\n",
        "  image = pipe(prompt+\" Highly Detailed,Ultra Realistic 8K Ultra HD Image\",negative_prompt=\"mutated Image , deformed Image,extra finger,mutated face,deformed pupils, deformed iris,mutated hands and fingers,deformed hand and fingers ,deformed eye,extra fingers ,less fingers,unrealistic Image,Low Quality,Bad Quality,deformed objects,unrealistic objects,blurry,mutated body,deformed body,deformed leg,mutated leg,deformed foot,mutated foot,deformed shoes,deformed buildings,deformed enviroment,deformed things,bad look\").images[0]\n",
        "  return image\n",
        "iface = gr.Interface(fn=gi,inputs=\"text\",outputs=\"image\")\n",
        "iface.launch(share=True)"
      ],
      "metadata": {
        "cellView": "form",
        "id": "JXxcsG62gApv"
      },
      "execution_count": null,
      "outputs": []
    }
  ]
}